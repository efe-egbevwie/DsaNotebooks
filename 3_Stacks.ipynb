{
 "cells": [
  {
   "metadata": {},
   "cell_type": "markdown",
   "source": [
    "# Stacks\n",
    "A stack is a data structure that follows the LIFO (Last In First Out) arrangement of items pattern, where items are continuously places at the top.\n",
    "The last item placed becomes the first item to be accessed when selecting from the stack.\n",
    "Examples of stacks in everyday-life include:\n",
    "- Pancakes\n",
    "- A stack of cash\n",
    "- A stack of books\n",
    "\n",
    "Examples of stacks used in various aspects of programming include:\n",
    "- Undo items in text editors\n",
    "- Navigation in UI frameworks\n",
    "- Call stacks in program execution\n",
    "\n",
    "## Stack Operations\n",
    "Stacks have 2 essential operations;\n",
    "1. Push: adding items to the top of the stack\n",
    "2. Pop: removing the topmost item from the stack"
   ]
  },
  {
   "cell_type": "code",
   "metadata": {
    "collapsed": true,
    "ExecuteTime": {
     "end_time": "2025-03-04T16:09:03.259430900Z",
     "start_time": "2025-03-04T16:09:03.189964600Z"
    }
   },
   "source": [
    "interface Stack<T : Any> {\n",
    "    val count:Int\n",
    "        get\n",
    "    val isEmpty:Boolean\n",
    "        get() = count ==0\n",
    "\n",
    "    fun push(element: T)\n",
    "    fun pop(): T?\n",
    "    fun peek():T?\n",
    "}"
   ],
   "outputs": [],
   "execution_count": 11
  },
  {
   "metadata": {
    "ExecuteTime": {
     "end_time": "2025-03-04T16:17:10.603722400Z",
     "start_time": "2025-03-04T16:17:10.190221700Z"
    }
   },
   "cell_type": "code",
   "source": [
    "class StackImpl<T : Any> : Stack<T> {\n",
    "    //1\n",
    "    private val storage = arrayListOf<T>()\n",
    "    override val count: Int\n",
    "        get() = storage.size\n",
    "\n",
    "\n",
    "    override fun toString() = buildString {\n",
    "        appendLine(\"----top----\")\n",
    "        storage.asReversed().forEach { item: T ->\n",
    "            appendLine(\"$item\")\n",
    "        }\n",
    "        appendLine(\"--------\")\n",
    "    }\n",
    "\n",
    "    //2\n",
    "    override fun push(element: T) {\n",
    "        storage.add(element)\n",
    "    }\n",
    "\n",
    "    //3\n",
    "    override fun pop(): T? {\n",
    "        if (storage.size == 0) return null\n",
    "        return storage.removeAt(storage.size - 1)\n",
    "    }\n",
    "\n",
    "    //4\n",
    "    override fun peek(): T? {\n",
    "        return storage.lastOrNull()\n",
    "    }\n",
    "\n",
    "    companion object {\n",
    "        //5\n",
    "        fun <T : Any> create(items: Iterable<T>): Stack<T> {\n",
    "            val stack = StackImpl<T>()\n",
    "            for (item in items) {\n",
    "                stack.push(item)\n",
    "            }\n",
    "            return stack\n",
    "        }\n",
    "    }\n",
    "}\n",
    "\n",
    "//6\n",
    "fun <T : Any> stackOf(vararg elements: T): Stack<T> {\n",
    "    return StackImpl.create(elements.asList())\n",
    "}\n",
    "\n",
    "infix fun String.example(function: () -> Unit) {\n",
    "    println(\"---Example of $this---\")\n",
    "    function()\n",
    "    println()\n",
    "}\n",
    "\n",
    "\"using a stack\" example {\n",
    "    val stack = StackImpl<Int>().apply {\n",
    "        push(1)\n",
    "        push(2)\n",
    "        push(3)\n",
    "        push(4)\n",
    "    }\n",
    "    println(stack)\n",
    "    val poppedElement: Int? = stack.pop()\n",
    "    if (poppedElement != null) {\n",
    "        println(\"Popped: $poppedElement\")\n",
    "    }\n",
    "    println(stack)\n",
    "}\n",
    "\n",
    "\"initialising a stack from a list\" example {\n",
    "    val list = listOf(\"A\", \"B\", \"C\", \"D\")\n",
    "    val stack = StackImpl.create(list)\n",
    "    println(stack)\n",
    "    println(\"Popped: ${stack.pop()}\")\n",
    "}\n",
    "\n",
    "\"initialising a stack from an array literal\" example {\n",
    "    val stack = stackOf(1.0, 2.0,3.0,4.0)\n",
    "    println(stack)\n",
    "    println(\"Popped: ${stack.pop()}\")\n",
    "}\n"
   ],
   "outputs": [
    {
     "name": "stdout",
     "output_type": "stream",
     "text": [
      "---Example of using a stack---\r\n",
      "----top----\n",
      "4\n",
      "3\n",
      "2\n",
      "1\n",
      "--------\n",
      "\r\n",
      "Popped: 4\r\n",
      "----top----\n",
      "3\n",
      "2\n",
      "1\n",
      "--------\n",
      "\r\n",
      "\r\n",
      "---Example of initialising a stack from a list---\r\n",
      "----top----\n",
      "D\n",
      "C\n",
      "B\n",
      "A\n",
      "--------\n",
      "\r\n",
      "Popped: D\r\n",
      "\r\n",
      "---Example of initialising a stack from an array literal---\r\n",
      "----top----\n",
      "4.0\n",
      "3.0\n",
      "2.0\n",
      "1.0\n",
      "--------\n",
      "\r\n",
      "Popped: 4.0\r\n",
      "\r\n"
     ]
    }
   ],
   "execution_count": 16
  },
  {
   "metadata": {},
   "cell_type": "markdown",
   "source": [
    "1. The storage array is used as a backing store data structure for the stack. An array is appropriate since it has constant time. insertion and deletions at the end\n",
    "2. In the `push` operation of the stack, we simply append to the array\n",
    "3. The `pop` operation first checks if the backing array is empty and returns `null` if so. If not null, we simply return the last element in the array\n",
    "4. The `peek` operation is used to get the topmost value of the stack without popping it, in this case, we simply return the last value of the array or null if non exists\n",
    "5. The `create` function is a util function to create a stack from a list of items\n",
    "6. The `stackOf`function calls the `create` function internally, but it creates the stack from an array literal\n",
    "\n",
    "\n",
    "## Time complexity\n",
    "\n",
    "| **Operation**       | Push | Pop  |\n",
    "|---------------------|------|------|\n",
    "| **Time Complexity** | O(1) | O(1) |\n"
   ]
  },
  {
   "metadata": {},
   "cell_type": "markdown",
   "source": [
    "## Challenges\n",
    "### Parenthesis validation\n",
    "Given a string that contains some parenthesis, return true if there are any opening and closing parenthesis \"()\".\n",
    "We can do this by iterating through the characters of the string then appending pushing to the stack, any occurrence of '(' , then popping from the stack any occurrence of ')', finally return true if the stack isEmpty.\n",
    "if the stack is not empty, this means there are occurrences of '(' only or ')' only.\n",
    "\n",
    "The time complexity of this algorithm is `O(n)` where n is the umber of characters in the string.\n",
    "The space complexity is also `O(n)` due to the usage of the stack\n"
   ]
  },
  {
   "metadata": {
    "ExecuteTime": {
     "end_time": "2025-03-04T16:47:25.173236Z",
     "start_time": "2025-03-04T16:47:25.054650500Z"
    }
   },
   "cell_type": "code",
   "source": [
    "fun String.checkParenthesis(): Boolean {\n",
    "    val stack = StackImpl<Char>()\n",
    "    for (character in this) {\n",
    "        when (character) {\n",
    "            '(' -> stack.push(character)\n",
    "            ')' -> if (stack.isEmpty) {\n",
    "                return false\n",
    "            } else {\n",
    "                stack.pop()\n",
    "            }\n",
    "        }\n",
    "    }\n",
    "    return stack.isEmpty\n",
    "}\n",
    "\"h((e))llo(world)()\".checkParenthesis()\n",
    "\"(hello world\".checkParenthesis()"
   ],
   "outputs": [
    {
     "data": {
      "text/plain": [
       "false"
      ]
     },
     "execution_count": 23,
     "metadata": {},
     "output_type": "execute_result"
    }
   ],
   "execution_count": 23
  }
 ],
 "metadata": {
  "kernelspec": {
   "display_name": "Kotlin",
   "language": "kotlin",
   "name": "kotlin"
  },
  "language_info": {
   "name": "kotlin",
   "version": "1.9.23",
   "mimetype": "text/x-kotlin",
   "file_extension": ".kt",
   "pygments_lexer": "kotlin",
   "codemirror_mode": "text/x-kotlin",
   "nbconvert_exporter": ""
  }
 },
 "nbformat": 4,
 "nbformat_minor": 0
}
