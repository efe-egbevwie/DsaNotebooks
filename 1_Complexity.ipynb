{
 "cells": [
  {
   "metadata": {},
   "cell_type": "markdown",
   "source": ""
  },
  {
   "metadata": {},
   "cell_type": "markdown",
   "source": "# Complexity"
  },
  {
   "metadata": {},
   "cell_type": "markdown",
   "source": [
    "Algorithms are mostly used to process and manipulate data.Complexity, in the context of algorithms usually refers to how well an algorithm performs over time as the input size of this data increases.\n",
    "\n",
    "Programmers often use a notation called the big O notation (O) to represent an estimation of this complexity in 2 dimensions:\n",
    "   - Execution time (Time Complexity)\n",
    "   - Memory Usage\n",
    "\n"
   ]
  },
  {
   "metadata": {},
   "cell_type": "markdown",
   "source": [
    "## Time Complexity\n",
    "Time complexity measures the amount of time an algorithm takes to run, as the input size of data into the algorithm increases.\n",
    "With a very small amount of data, very slow algorithms appear fast due to modern hardware capabilities\n",
    "\n",
    "### Constant time O(1)\n",
    "A constant time algorithm will take the same amount of time to run regardless of the input size of the data into the algorithm.\n",
    "This does not mean this function will run in the same time on different machine configurations, types and runtimes, it just means that given the same environment, the function will take the same time to run, no matter how large the input size is\n",
    "\n",
    "An example of a constant time algorithm in checking the first item in a list.\n",
    "Even if the list has 10 million or 100 million items, the size does not affect the algorithm, because the operation simply accesses the [0]th item (Lists are ordered)."
   ]
  },
  {
   "metadata": {
    "ExecuteTime": {
     "end_time": "2024-12-21T10:56:07.661013300Z",
     "start_time": "2024-12-21T10:56:06.974891600Z"
    }
   },
   "cell_type": "code",
   "source": [
    "import kotlin.system.measureTimeMillis\n",
    "\n",
    "fun checkFirtNames(names:List<String>){\n",
    "    if (names.isEmpty()) println(\"No names\")\n",
    "    println(names.first())\n",
    "}\n",
    "val tenItems = List(10){index ->\n",
    "    \"Name:$index\"\n",
    "}\n",
    "val oneMillionItems = List(1000000){index ->\n",
    "    \"Name:$index\"\n",
    "}\n",
    "val timeTakenForTenItems = measureTimeMillis {\n",
    "    checkFirtNames(tenItems)\n",
    "}\n",
    "\n",
    "val timeTakenForOneMillionItems = measureTimeMillis {\n",
    "    checkFirtNames(oneMillionItems)\n",
    "}\n",
    "\n",
    "println(\"time for ten items -> $timeTakenForTenItems\")\n",
    "println(\"time for one million  items -> $timeTakenForOneMillionItems\")\n"
   ],
   "outputs": [
    {
     "name": "stdout",
     "output_type": "stream",
     "text": [
      "Name:0\r\n",
      "Name:0\r\n",
      "time for ten items -> 0\r\n",
      "time for one million  items -> 0\r\n"
     ]
    }
   ],
   "execution_count": 7
  },
  {
   "metadata": {},
   "cell_type": "markdown",
   "source": [
    "Note that you may get different execution times when you run this due to the jvm warm up time and this being a notebook environment but for the ten items and one million items, you'll get roughly the same amount of time despite increasing the input size over 10,000 times.\n",
    "\n",
    "\n",
    "## Linear time O(n)\n",
    "These types of algorithms execute with time relative to the size of their inputs, that is, the time increases with the input data size\n"
   ]
  },
  {
   "metadata": {
    "ExecuteTime": {
     "end_time": "2024-12-21T11:06:46.324819Z",
     "start_time": "2024-12-21T11:06:45.915345400Z"
    }
   },
   "cell_type": "code",
   "source": [
    "fun printFirstNames(names:List<String>){\n",
    "    if (names.isEmpty()) println(\"No names\")\n",
    "    for(name in names){\n",
    "        println(name)\n",
    "    }\n",
    "}\n",
    "val tenItems = List(10){index ->\n",
    "    \"Name:$index\"\n",
    "}\n",
    "val oneHundredItems = List(100){ index ->\n",
    "    \"Name:$index\"\n",
    "}\n",
    "val timeTakenForTenItems = measureTimeMillis {\n",
    "    printFirstNames(tenItems)\n",
    "}\n",
    "\n",
    "val timeTakenForOneHundredItems = measureTimeMillis {\n",
    "    printFirstNames(oneHundredItems)\n",
    "}\n",
    "\n",
    "println(\"time for ten items -> $timeTakenForTenItems\")\n",
    "println(\"time for one hundred  items -> $timeTakenForOneHundredItems\")\n"
   ],
   "outputs": [
    {
     "name": "stdout",
     "output_type": "stream",
     "text": [
      "Name:0\r\n",
      "Name:1\r\n",
      "Name:2\r\n",
      "Name:3\r\n",
      "Name:4\r\n",
      "Name:5\r\n",
      "Name:6\r\n",
      "Name:7\r\n",
      "Name:8\r\n",
      "Name:9\r\n",
      "Name:0\r\n",
      "Name:1\r\n",
      "Name:2\r\n",
      "Name:3\r\n",
      "Name:4\r\n",
      "Name:5\r\n",
      "Name:6\r\n",
      "Name:7\r\n",
      "Name:8\r\n",
      "Name:9\r\n",
      "Name:10\r\n",
      "Name:11\r\n",
      "Name:12\r\n",
      "Name:13\r\n",
      "Name:14\r\n",
      "Name:15\r\n",
      "Name:16\r\n",
      "Name:17\r\n",
      "Name:18\r\n",
      "Name:19\r\n",
      "Name:20\r\n",
      "Name:21\r\n",
      "Name:22\r\n",
      "Name:23\r\n",
      "Name:24\r\n",
      "Name:25\r\n",
      "Name:26\r\n",
      "Name:27\r\n",
      "Name:28\r\n",
      "Name:29\r\n",
      "Name:30\r\n",
      "Name:31\r\n",
      "Name:32\r\n",
      "Name:33\r\n",
      "Name:34\r\n",
      "Name:35\r\n",
      "Name:36\r\n",
      "Name:37\r\n",
      "Name:38\r\n",
      "Name:39\r\n",
      "Name:40\r\n",
      "Name:41\r\n",
      "Name:42\r\n",
      "Name:43\r\n",
      "Name:44\r\n",
      "Name:45\r\n",
      "Name:46\r\n",
      "Name:47\r\n",
      "Name:48\r\n",
      "Name:49\r\n",
      "Name:50\r\n",
      "Name:51\r\n",
      "Name:52\r\n",
      "Name:53\r\n",
      "Name:54\r\n",
      "Name:55\r\n",
      "Name:56\r\n",
      "Name:57\r\n",
      "Name:58\r\n",
      "Name:59\r\n",
      "Name:60\r\n",
      "Name:61\r\n",
      "Name:62\r\n",
      "Name:63\r\n",
      "Name:64\r\n",
      "Name:65\r\n",
      "Name:66\r\n",
      "Name:67\r\n",
      "Name:68\r\n",
      "Name:69\r\n",
      "Name:70\r\n",
      "Name:71\r\n",
      "Name:72\r\n",
      "Name:73\r\n",
      "Name:74\r\n",
      "Name:75\r\n",
      "Name:76\r\n",
      "Name:77\r\n",
      "Name:78\r\n",
      "Name:79\r\n",
      "Name:80\r\n",
      "Name:81\r\n",
      "Name:82\r\n",
      "Name:83\r\n",
      "Name:84\r\n",
      "Name:85\r\n",
      "Name:86\r\n",
      "Name:87\r\n",
      "Name:88\r\n",
      "Name:89\r\n",
      "Name:90\r\n",
      "Name:91\r\n",
      "Name:92\r\n",
      "Name:93\r\n",
      "Name:94\r\n",
      "Name:95\r\n",
      "Name:96\r\n",
      "Name:97\r\n",
      "Name:98\r\n",
      "Name:99\r\n",
      "time for ten items -> 1\r\n",
      "time for one million  items -> 11\r\n"
     ]
    }
   ],
   "execution_count": 13
  },
  {
   "metadata": {},
   "cell_type": "markdown",
   "source": [
    "We can modify our first function to print all the names in the list instead of just the first name. And we'll see that printing one hundred items takes about 10x more time than printing ten item.\n",
    "\n",
    "\n",
    "## Quadratic time O(n^2)\n",
    "Also known as n squared, these algorithms execute with time proportional to the square of the input size of the data.\n"
   ]
  },
  {
   "metadata": {
    "ExecuteTime": {
     "end_time": "2024-12-26T15:22:56.434824700Z",
     "start_time": "2024-12-26T15:22:55.891608600Z"
    }
   },
   "cell_type": "code",
   "source": [
    "import kotlin.system.measureTimeMillis\n",
    "\n",
    "fun multiplicationTable(size:Int){\n",
    "    for(number in 1..size){\n",
    "        print(\" | \")\n",
    "        for (otherNumber in 1..size){\n",
    "            print(\"$number x $otherNumber = ${number * otherNumber} | \")\n",
    "        }\n",
    "        println()\n",
    "    }\n",
    "}\n",
    "\n",
    "val timeForInputOf2 = measureTimeMillis {\n",
    "    multiplicationTable(2)\n",
    "}\n",
    "\n",
    "val timeFOrInputOf10 = measureTimeMillis {\n",
    "    multiplicationTable(10)\n",
    "}\n",
    "\n",
    "println(\"time for input of 2 -> $timeForInputOf2\")\n",
    "println()\n",
    "println(\"time for input of 10 -> $timeFOrInputOf10\")"
   ],
   "outputs": [
    {
     "name": "stdout",
     "output_type": "stream",
     "text": [
      " | 1 x 1 = 1 | 1 x 2 = 2 | \r\n",
      " | 2 x 1 = 2 | 2 x 2 = 4 | \r\n",
      " | 1 x 1 = 1 | 1 x 2 = 2 | 1 x 3 = 3 | 1 x 4 = 4 | 1 x 5 = 5 | 1 x 6 = 6 | 1 x 7 = 7 | 1 x 8 = 8 | 1 x 9 = 9 | 1 x 10 = 10 | \r\n",
      " | 2 x 1 = 2 | 2 x 2 = 4 | 2 x 3 = 6 | 2 x 4 = 8 | 2 x 5 = 10 | 2 x 6 = 12 | 2 x 7 = 14 | 2 x 8 = 16 | 2 x 9 = 18 | 2 x 10 = 20 | \r\n",
      " | 3 x 1 = 3 | 3 x 2 = 6 | 3 x 3 = 9 | 3 x 4 = 12 | 3 x 5 = 15 | 3 x 6 = 18 | 3 x 7 = 21 | 3 x 8 = 24 | 3 x 9 = 27 | 3 x 10 = 30 | \r\n",
      " | 4 x 1 = 4 | 4 x 2 = 8 | 4 x 3 = 12 | 4 x 4 = 16 | 4 x 5 = 20 | 4 x 6 = 24 | 4 x 7 = 28 | 4 x 8 = 32 | 4 x 9 = 36 | 4 x 10 = 40 | \r\n",
      " | 5 x 1 = 5 | 5 x 2 = 10 | 5 x 3 = 15 | 5 x 4 = 20 | 5 x 5 = 25 | 5 x 6 = 30 | 5 x 7 = 35 | 5 x 8 = 40 | 5 x 9 = 45 | 5 x 10 = 50 | \r\n",
      " | 6 x 1 = 6 | 6 x 2 = 12 | 6 x 3 = 18 | 6 x 4 = 24 | 6 x 5 = 30 | 6 x 6 = 36 | 6 x 7 = 42 | 6 x 8 = 48 | 6 x 9 = 54 | 6 x 10 = 60 | \r\n",
      " | 7 x 1 = 7 | 7 x 2 = 14 | 7 x 3 = 21 | 7 x 4 = 28 | 7 x 5 = 35 | 7 x 6 = 42 | 7 x 7 = 49 | 7 x 8 = 56 | 7 x 9 = 63 | 7 x 10 = 70 | \r\n",
      " | 8 x 1 = 8 | 8 x 2 = 16 | 8 x 3 = 24 | 8 x 4 = 32 | 8 x 5 = 40 | 8 x 6 = 48 | 8 x 7 = 56 | 8 x 8 = 64 | 8 x 9 = 72 | 8 x 10 = 80 | \r\n",
      " | 9 x 1 = 9 | 9 x 2 = 18 | 9 x 3 = 27 | 9 x 4 = 36 | 9 x 5 = 45 | 9 x 6 = 54 | 9 x 7 = 63 | 9 x 8 = 72 | 9 x 9 = 81 | 9 x 10 = 90 | \r\n",
      " | 10 x 1 = 10 | 10 x 2 = 20 | 10 x 3 = 30 | 10 x 4 = 40 | 10 x 5 = 50 | 10 x 6 = 60 | 10 x 7 = 70 | 10 x 8 = 80 | 10 x 9 = 90 | 10 x 10 = 100 | \r\n",
      "time for input of 2 -> 7\r\n",
      "\r\n",
      "time for input of 10 -> 49\r\n"
     ]
    }
   ],
   "execution_count": 9
  },
  {
   "metadata": {},
   "cell_type": "markdown",
   "source": [
    "The above function will print all the products of the numbers less than in input size. As we increase the input, the number of println statements increase with much higher proportions ( 4 print statements for input size of 2, 100 print statements for input size of 10).\n",
    "\n",
    "A linear time algorithm O(n) will always be preferred to a Quadratic time algorithm O(n^2), no matter how well optimized the quadratic time algorithm is.\n",
    "\n",
    "\n",
    "## Logarithmic time O(log n)\n",
    "These algorithms make smart shortcuts to shorten their potential execution time, for example choosing to traverse only a subset of a dataset, instead of traversing the entire dataset.\n",
    "If we needed to find a number in an ordered/sorted collection, instead of traversing the entire collection to find the number, since th collection is sorted, we could eliminate all the numbers that are less than the particular number we're looking for, such that we have a much smaller dataset to traverse.\n"
   ]
  },
  {
   "metadata": {
    "ExecuteTime": {
     "end_time": "2024-12-21T11:38:57.894830600Z",
     "start_time": "2024-12-21T11:38:57.447038300Z"
    }
   },
   "cell_type": "code",
   "source": [
    "import kotlin.system.measureNanoTime\n",
    "\n",
    "val numbers =  List(1000){ index -> index}\n",
    "val numberToFind = 670\n",
    "\n",
    "fun findNumberWithLinearTimeAlgorithm(numberToFind:Int, numberDataSet:List<Int>):Boolean{\n",
    "    for (number in numberDataSet){\n",
    "        if (numberToFind == number){\n",
    "            return true\n",
    "        }\n",
    "    }\n",
    "    return false\n",
    "}\n",
    "\n",
    "\n",
    "fun findNumberWithLogarithmicTimeALgorithm(numberToFind:Int, numberDataSet:List<Int>):Boolean{\n",
    "    if (numberDataSet.isEmpty()) return false\n",
    "    val middleIndex = numberDataSet.size / 2\n",
    "    if (numberToFind <= numberDataSet[middleIndex]){\n",
    "        for (index in 0..middleIndex){\n",
    "            if (numberDataSet[index] == numberToFind)\n",
    "                return true\n",
    "        }\n",
    "    }else{\n",
    "        for (index in middleIndex until numberDataSet.size){\n",
    "            if (numberDataSet[index] == numberToFind)\n",
    "                return true\n",
    "        }\n",
    "    }\n",
    "    return false\n",
    "}\n",
    "\n",
    "\n",
    "val timeTakenToFindNumberWithLinearTime = measureNanoTime {\n",
    "    findNumberWithLinearTimeAlgorithm(numberToFind = numberToFind, numberDataSet = numbers)\n",
    "}\n",
    "val timeTakenToFindNumberWithLogarithmicAlgorithm = measureNanoTime {\n",
    "    findNumberWithLogarithmicTimeALgorithm(numberToFind = numberToFind, numberDataSet = numbers)\n",
    "}\n",
    "\n",
    "println(\"finding number with linear time -> $timeTakenToFindNumberWithLinearTime\")\n",
    "println(\"finding number with logaritmic time -> $timeTakenToFindNumberWithLogarithmicAlgorithm\")"
   ],
   "outputs": [
    {
     "name": "stdout",
     "output_type": "stream",
     "text": [
      "finding number with linear time -> 119900\r\n",
      "finding number with logaritmic time -> 23900\r\n"
     ]
    }
   ],
   "execution_count": 18
  },
  {
   "metadata": {},
   "cell_type": "markdown",
   "source": [
    "In the linear time algorithm, we have to traverse the entire dataset which takes more time, compared to the logarithmic time algorithm where we can make cut off half the dataset since we know that the number we are looking for is less than half the data set.\n",
    "Logarithmic time algorithms have execution times that increases at a slower rate, even as the input size increases.\n",
    "These algorithms are rare but powerful.\n",
    "\n",
    "\n",
    "## Quasilinear time O(n log n)\n",
    "These algorithms perform worse than linear time but much better than quadratic time algorithms. They are the most common.\n",
    "The classic merge sort algorithm is an example of a quasilinear algorithm.\n",
    "The merge sort algorithm takes an unsorted array, and  recursively splits it down to the smallest units, then sorts the small units in order, and merges them back together into a single sorted array.\n"
   ]
  },
  {
   "metadata": {
    "ExecuteTime": {
     "end_time": "2024-12-21T18:02:23.711921Z",
     "start_time": "2024-12-21T18:02:23.305109900Z"
    }
   },
   "cell_type": "code",
   "source": [
    "fun mergeAndSort(array: Array<Int>):IntArray{\n",
    "    if (array.size <= 1) return array.toIntArray()\n",
    "\n",
    "    //splot the list into 2\n",
    "    val startIndex = 0\n",
    "    val endIndex = array.size - 1\n",
    "    val middleIndex = (startIndex + endIndex)/2\n",
    "    val leftArray = array.sliceArray(startIndex.. middleIndex)\n",
    "    val rightArray = array.sliceArray(middleIndex +  1..endIndex)\n",
    "\n",
    "    // recurseively call merge and sort until we have only 1 item in each array\n",
    "    return merge(leftArray = mergeAndSort(leftArray), rightArray = mergeAndSort(rightArray))\n",
    "}\n",
    "\n",
    "fun merge(leftArray:IntArray, rightArray: IntArray):IntArray{\n",
    "    var leftIndex = 0\n",
    "    var rightIndex = 0\n",
    "    var mergedIndex = 0\n",
    "    val mergedArray = IntArray(leftArray.size + rightArray.size)\n",
    "\n",
    "    //merge the 2 lists\n",
    "    while (leftIndex < leftArray.size && rightIndex < rightArray.size){\n",
    "        if (leftArray[leftIndex] <= rightArray[rightIndex]){\n",
    "            mergedArray[mergedIndex] = leftArray[leftIndex]\n",
    "            leftIndex ++\n",
    "        }else{\n",
    "            mergedArray[mergedIndex] = rightArray[rightIndex]\n",
    "            rightIndex ++\n",
    "        }\n",
    "        mergedIndex ++\n",
    "    }\n",
    "\n",
    "    while (leftIndex < leftArray.size){\n",
    "        mergedArray[mergedIndex] = leftArray[leftIndex]\n",
    "        leftIndex++\n",
    "        mergedIndex++\n",
    "    }\n",
    "\n",
    "    while (rightIndex < rightArray.size){\n",
    "        mergedArray[mergedIndex] = rightArray[rightIndex]\n",
    "        rightIndex ++\n",
    "        mergedIndex++\n",
    "    }\n",
    "\n",
    "    return  mergedArray\n",
    "}\n",
    "\n",
    "mergeAndSort(array = arrayOf(39, 30, 11, 49, 20, 90, 44, 11, 30, 19, 57, 57))"
   ],
   "outputs": [
    {
     "data": {
      "text/plain": [
       "[11, 11, 19, 20, 30, 30, 39, 44, 49, 57, 57, 90]"
      ]
     },
     "execution_count": 25,
     "metadata": {},
     "output_type": "execute_result"
    }
   ],
   "execution_count": 25
  },
  {
   "metadata": {},
   "cell_type": "markdown",
   "source": [
    "Dividing the arrays takes O(1) at each level.\n",
    "There are log n levels of recursion\n",
    "Merging two sorted lists takes O(n) time, where n is the total number of elements in both arrays, and the merge happens at each level of the recursion.\n",
    "At eac level of recursion, the total work is O(n) and we have a log n levels of recursion, giving us total time complexity of O(n log n\n",
    "\n",
    "\n"
   ]
  },
  {
   "metadata": {},
   "cell_type": "markdown",
   "source": [
    "## Space Complexity\n",
    "Space Complexity gives a picture of the amount of memory that an algorithm will consume while executing.\n",
    "Consider the below function;\n",
    "\n"
   ]
  },
  {
   "metadata": {
    "ExecuteTime": {
     "end_time": "2024-12-26T14:58:12.048696200Z",
     "start_time": "2024-12-26T14:58:11.523240600Z"
    }
   },
   "cell_type": "code",
   "source": [
    "fun printSorted(numbers:List<Int>){\n",
    "    val sorted = numbers.sorted()\n",
    "    for (element in sorted){\n",
    "        println(element)\n",
    "    }\n",
    "}"
   ],
   "outputs": [],
   "execution_count": 1
  },
  {
   "metadata": {},
   "cell_type": "markdown",
   "source": [
    "\n",
    "The numbers.sorted() from the standard library function will create a new List with the same size as the input.\n",
    "This gives the printSorted() algorithm a space complexity of O(n).\n",
    "\n",
    "If we were optimizing for memory, the function could be re-written as follows:\n",
    "\n"
   ]
  },
  {
   "metadata": {
    "ExecuteTime": {
     "end_time": "2024-12-26T15:14:47.582482200Z",
     "start_time": "2024-12-26T15:14:47.163762700Z"
    }
   },
   "cell_type": "code",
   "source": [
    "fun printSorted(numbers:List<Int>){\n",
    "    if (numbers.isEmpty()) return\n",
    "\n",
    "    var currentCount = 0\n",
    "    var minValue = Int.MIN_VALUE\n",
    "\n",
    "    for (value in numbers){\n",
    "        if (value == minValue){\n",
    "            println(value)\n",
    "            currentCount += 1\n",
    "        }\n",
    "    }\n",
    "\n",
    "    while (currentCount < numbers.size){\n",
    "        var currentValue = numbers.maxOrNull()!!\n",
    "\n",
    "        for (value in numbers){\n",
    "            if (value < currentValue && value > minValue){\n",
    "                currentValue = value\n",
    "            }\n",
    "        }\n",
    "\n",
    "        for (value in numbers){\n",
    "            if (value == currentValue){\n",
    "                println(value)\n",
    "                currentCount += 1\n",
    "            }\n",
    "        }\n",
    "\n",
    "        minValue = currentValue\n",
    "    }\n",
    "}"
   ],
   "outputs": [],
   "execution_count": 5
  },
  {
   "metadata": {},
   "cell_type": "markdown",
   "source": [
    "The function now iterates through the List in multiple passes, looking for, and printing the smallest value in each iteration. The only space allocated here is just a few bytes of memory for variables, no extra List is allocated, unlike the first function.\n",
    "This gives the algorithm a space complexity of O(1).\n",
    "\n",
    "\n",
    "## Key Takeaways\n",
    "1. Time complexity measures the time taken to run an algorithm as the input size increases\n",
    "2. Space complexity measures the memory resources required for an algorithm to process some data\n",
    "3. The Big O notation is used to represent the time and space complexity of an algorithm\n",
    "4. Time and Space complexity are high-level measures, they don't measure the exact speed, time taken and memory consumed by any algorithm\n",
    "5. For small data sets, time complexity is usually irrelevant\n",
    "6. Quasilinear algorithms are the most-common\n",
    "7. Logarithmic algorithms are rare but very powerful"
   ]
  }
 ],
 "metadata": {
  "kernelspec": {
   "display_name": "Kotlin",
   "language": "kotlin",
   "name": "kotlin"
  },
  "language_info": {
   "name": "kotlin",
   "version": "1.9.23",
   "mimetype": "text/x-kotlin",
   "file_extension": ".kt",
   "pygments_lexer": "kotlin",
   "codemirror_mode": "text/x-kotlin",
   "nbconvert_exporter": ""
  }
 },
 "nbformat": 4,
 "nbformat_minor": 0
}
