{
 "cells": [
  {
   "cell_type": "code",
   "source": [
    "import kotlin.system.measureTimeMillis\n",
    "\n",
    "\n",
    "/**\n",
    " * The outer loop iterates through the unsorted part of the array (initially the entire array).\n",
    "During each outer loop iteration:\n",
    "The inner loop finds the index of the smallest element in the remaining unsorted part.\n",
    "The swapItems function is called to swap the smallest element with the element at the current index of the outer loop, effectively moving the smallest element to its correct position.\n",
    " *\n",
    " * */\n",
    "fun sortListWithSelectionSort(dataSet: Array<Int>): Array<Int> {\n",
    "    var smallestIndex: Int\n",
    "    (0 until dataSet.size).forEach { currentIndex: Int ->\n",
    "        smallestIndex = currentIndex\n",
    "        (currentIndex + 1 until dataSet.size).forEach { incrementeIndex ->\n",
    "            if (dataSet[incrementeIndex] < dataSet[smallestIndex]) {\n",
    "                smallestIndex = incrementeIndex\n",
    "            }\n",
    "        }\n",
    "\n",
    "        swapItems(dataSet = dataSet, smallestIndex = smallestIndex, biggerIndex = currentIndex)\n",
    "    }\n",
    "\n",
    "    return dataSet\n",
    "\n",
    "}\n",
    "\n",
    "/**\n",
    " * Swap 2 items in an array, places the smallest item at the rightmost position and the larger item in the old position of the smallest\n",
    " * */\n",
    "fun swapItems(dataSet: Array<Int>, smallestIndex: Int, biggerIndex: Int) {\n",
    "    val item = dataSet[smallestIndex]\n",
    "    dataSet[smallestIndex] = dataSet[biggerIndex]\n",
    "    dataSet[biggerIndex] = item\n",
    "}\n",
    "\n",
    "\n",
    "val unsortedArray = arrayOf(8, 5, 2, 9, 5, 6, 3)\n",
    "\n",
    "println(\"unsorted array -> ${unsortedArray.contentToString()}\")\n",
    "println(\"sorted array -> ${sortListWithSelectionSort(dataSet = unsortedArray).contentToString()}\")\n",
    "\n",
    "\n"
   ],
   "metadata": {
    "collapsed": false,
    "ExecuteTime": {
     "end_time": "2024-12-26T15:24:38.811561500Z",
     "start_time": "2024-12-26T15:24:38.510284700Z"
    }
   },
   "outputs": [
    {
     "name": "stdout",
     "output_type": "stream",
     "text": [
      "unsorted array -> [8, 5, 2, 9, 5, 6, 3]\r\n",
      "sorted array -> [2, 3, 5, 5, 6, 8, 9]\r\n"
     ]
    }
   ],
   "execution_count": 2
  },
  {
   "cell_type": "markdown",
   "source": [
    "## Measuring Time complexity\n",
    "To measure the time complexity, we'll create 3 unsorted arrays with each subsequent one having more items than the previous one, then we'll measure the time required to sort these arrays\n"
   ],
   "metadata": {
    "collapsed": false
   }
  },
  {
   "cell_type": "code",
   "execution_count": 5,
   "outputs": [
    {
     "name": "stdout",
     "output_type": "stream",
     "text": [
      "\r\n",
      "500 items sorted in -> 0 milliseconds\r\n",
      "1000 items sorted in -> 2 milliseconds\r\n",
      "10000 items sorted in -> 264 milliseconds\r\n"
     ]
    }
   ],
   "source": [
    "import kotlin.system.measureTimeMillis\n",
    "\n",
    "val unsortedArrayOf500Items = (0 until 100).shuffled().toTypedArray()\n",
    "val unsortedArrayOf1000Items = (0 until 1000).shuffled().toTypedArray()\n",
    "val unsortedArrayOf10000Items = (0 until 10000).shuffled().toTypedArray()\n",
    "\n",
    "\n",
    "val timeToSort100Items = measureTimeMillis{\n",
    "    sortListWithSelectionSort(unsortedArrayOf500Items)\n",
    "}\n",
    "\n",
    "\n",
    "val timeToSort1000Items = measureTimeMillis {\n",
    "    sortListWithSelectionSort(unsortedArrayOf1000Items)\n",
    "}\n",
    "\n",
    "val timeToSort10000Items = measureTimeMillis {\n",
    "    sortListWithSelectionSort(unsortedArrayOf10000Items)\n",
    "}\n",
    "\n",
    "\n",
    "\n",
    "println()\n",
    "\n",
    "println(\"500 items sorted in -> ${timeToSort100Items} milliseconds\")\n",
    "println(\"1000 items sorted in -> ${timeToSort1000Items} milliseconds\")\n",
    "println(\"10000 items sorted in -> ${timeToSort10000Items} milliseconds\")\n",
    "\n",
    "\n"
   ],
   "metadata": {
    "collapsed": false,
    "ExecuteTime": {
     "end_time": "2024-02-24T15:26:28.952189300Z",
     "start_time": "2024-02-24T15:26:28.154105900Z"
    }
   }
  },
  {
   "cell_type": "markdown",
   "source": [
    "With a larger array size, the time required to sort each array increases. This gives the selection sort algorithm a time complexity of O(n^2) at worst case scenario.\n",
    " - Each element in the array (except the last) will participate in the comparison of the current smallest element, so as the input size increases, more time will be spent in comparing each item.\n",
    "  -The swapping of items in the second function is a constant time operation so, even though this operation will be carried out more times with an increasing input size, the contribution of the swapping to the time complexity is negligible.\n",
    "\n",
    "\n",
    "This means that as the size of the input array (n) increases, the time it takes for the function to run increases roughly by the square of n."
   ],
   "metadata": {
    "collapsed": false
   }
  },
  {
   "cell_type": "markdown",
   "source": [
    "\n",
    "\n",
    "## Space Complexity\n",
    "The space complexity of the selection sort is O(1) (constant time). Here are the reasons -\n",
    "1. In place sorting: No extra arrays are created throughout the iteration since we do the sorting og the items within the same arrays\n",
    "2. Few Variables allocated on the stack: Apart from the iteration count, which is handled by the programming language, the only additional variables we allocate is  for a few temporary variables like smallestIndex in the first function, or item in the swap function. These variables are Integers, which have a constant size data.\n",
    "\n"
   ],
   "metadata": {
    "collapsed": false
   }
  },
  {
   "cell_type": "markdown",
   "source": [
    "## Use cases\n",
    "1. Selection sort is a very straight forward sorting algorithm which makes is easy to implement to quickly sort a small data set.\n",
    "2. It's useful for environments with memory constraints, such as embedded systems or resource-constrained devices like IOT device, non-smartphones, etc. since, as we've seen above, it has a constant time space complexity.\n",
    "\n",
    "## Disadvantages\n",
    "1. Selection sort is not suitable for large datasets. With it's O(n^2) time complexity, if we use the selection sort for a very large dataset, it's going to take significantly longer to sort the data, compared to other faster algorithms like quicksort and mergesort\n",
    "2. It is inefficient for a dataset that is partly sorted;\n",
    "    Supposing we have an array like this - [0,2,4,5,6,1,6,3,8,2], the first 5 items are actually sorted, but the selection sort is not smart enough to skip the comparison of these 5 items, it will still compare them.\n",
    "   This is in contrast to an algorithm like insertion sort which will take advantage of the partially sorted array."
   ],
   "metadata": {
    "collapsed": false
   }
  },
  {
   "cell_type": "code",
   "execution_count": null,
   "outputs": [],
   "source": [],
   "metadata": {
    "collapsed": false
   }
  }
 ],
 "metadata": {
  "kernelspec": {
   "display_name": "Kotlin",
   "language": "kotlin",
   "name": "kotlin"
  },
  "language_info": {
   "name": "kotlin",
   "version": "1.8.20",
   "mimetype": "text/x-kotlin",
   "file_extension": ".kt",
   "pygments_lexer": "kotlin",
   "codemirror_mode": "text/x-kotlin",
   "nbconvert_exporter": ""
  },
  "ktnbPluginMetadata": {
   "projectLibraries": false
  }
 },
 "nbformat": 4,
 "nbformat_minor": 0
}
