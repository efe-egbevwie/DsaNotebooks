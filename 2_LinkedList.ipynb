{
 "cells": [
  {
   "metadata": {},
   "cell_type": "markdown",
   "source": [
    "# Table of contents\n",
    "1. [Linked List](#linked-list)\n",
    "2. [Challenges](#challenges)\n",
    "    1. [Print the nodes of a linked list in reverse](#challenge-1-print-the-nodes-of-a-linked-list-in-reverse)\n",
    "    2. [Find the middle node of a Linked list](#challenge-2-find-the-middle-item-of-a-linked-list)\n",
    "    3. [Reverse a linked list](#challenge-3-reverse-a-linkedlist)\n",
    "\n",
    "# Linked List\n",
    "A LinkedList is a collection of nodes arranged in a linear sequence, each node holds a reference to the next node in the sequence if it exists\n",
    "- LinkedLists have O(1) time insertion and removal from the front of the list\n",
    "- Each node holds a value\n",
    "- Absence of a reference to a next node indicates the end of the list\n",
    "\n",
    "<br>\n",
    "<img src=\"images/linked_list_structure.png\">\n",
    "<br>\n",
    "\n",
    "Event though the java standard library has a LinkedList implementation, we'll build one from scratch to get a clear picture of how LinkedLists work\n"
   ]
  },
  {
   "metadata": {
    "ExecuteTime": {
     "end_time": "2025-01-03T09:42:17.070254700Z",
     "start_time": "2025-01-03T09:42:16.004140500Z"
    }
   },
   "cell_type": "code",
   "source": [
    "data class Node<T: Any>(var value:T, var next:Node<T>? = null){\n",
    "    override fun toString(): String {\n",
    "        return if (next != null){\n",
    "            \"$value -> ${next.toString()}\"\n",
    "        }else{\n",
    "            \"$value\"\n",
    "        }\n",
    "    }\n",
    "}\n",
    "\n",
    "\n",
    "infix fun String.example(function: () -> Unit) {\n",
    "    println(\"---Example of $this---\")\n",
    "    function()\n",
    "    println()\n",
    "}\n",
    "\n",
    "\"creating and linking nodes\" example {\n",
    "    val node1 = Node(value = 1)\n",
    "    val node2 = Node(value = 2)\n",
    "    val node3 = Node(value = 3)\n",
    "\n",
    "    node1.next = node2\n",
    "    node2.next = node3\n",
    "\n",
    "    println(node1)\n",
    "}\n"
   ],
   "outputs": [
    {
     "name": "stdout",
     "output_type": "stream",
     "text": [
      "---Example of creating and linking nodes---\r\n",
      "1 -> 2 -> 3\r\n",
      "\r\n"
     ]
    }
   ],
   "execution_count": 1
  },
  {
   "metadata": {},
   "cell_type": "markdown",
   "source": [
    "We created a LinkedList with 3 nodes in the above code which gives us the following structure:\n",
    "<img src=\"images/linked_list_node_and_reference.png\">\n",
    "\n",
    "Our implementation from above works but involves some boilerplate involved, especially if we use it to build long lists, we can improve it.\n",
    "\n"
   ]
  },
  {
   "metadata": {
    "ExecuteTime": {
     "end_time": "2025-01-03T09:42:18.564889100Z",
     "start_time": "2025-01-03T09:42:17.123788700Z"
    }
   },
   "cell_type": "code",
   "source": [
    "class LinkedList<T : Any> {\n",
    "\n",
    "    private var head: Node<T>? = null\n",
    "    private var tail: Node<T>? = null\n",
    "    var size = 0\n",
    "\n",
    "    fun isEmpty(): Boolean = size == 0\n",
    "\n",
    "\n",
    "    override fun toString(): String {\n",
    "        if (isEmpty()) {\n",
    "            return \"Empty List\"\n",
    "        } else {\n",
    "            return head.toString()\n",
    "        }\n",
    "    }\n",
    "\n",
    "    fun push(value: T): LinkedList<T> = apply {\n",
    "        val oldHead: Node<T>? = head?.copy()\n",
    "        val newhead = Node(value = value, next = oldHead)\n",
    "        head = newhead\n",
    "        if (tail == null) {\n",
    "            tail = head\n",
    "        }\n",
    "        size++\n",
    "    }\n",
    "\n",
    "    fun append(value: T): LinkedList<T> = apply {\n",
    "        if (isEmpty()) {\n",
    "            push(value)\n",
    "            return this\n",
    "        }\n",
    "\n",
    "        val newNode = Node(value = value)\n",
    "        tail?.next = newNode\n",
    "        tail = newNode\n",
    "        size++\n",
    "    }\n",
    "\n",
    "    fun insert(value: T, afterNode: Node<T>): Node<T> {\n",
    "        if (tail == afterNode) {\n",
    "            append(value)\n",
    "            return tail!!\n",
    "        }\n",
    "\n",
    "        val newNode = Node(value = value, next = afterNode.next)\n",
    "        afterNode.next = newNode\n",
    "        size++\n",
    "        return newNode\n",
    "    }\n",
    "\n",
    "    fun pop(): T? {\n",
    "        if (isEmpty()) return null\n",
    "        val result = head?.value\n",
    "        head = head?.next\n",
    "        size--\n",
    "        if (isEmpty()) {\n",
    "            tail = null\n",
    "        }\n",
    "        return result\n",
    "    }\n",
    "\n",
    "    fun nodeAt(index: Int): Node<T>? {\n",
    "        var currentNode = head\n",
    "        var currentIndex = 0\n",
    "\n",
    "        while (currentNode != null && currentIndex < index) {\n",
    "            currentNode = currentNode.next\n",
    "            currentIndex++\n",
    "        }\n",
    "\n",
    "        return currentNode\n",
    "    }\n",
    "\n",
    "    fun removeLast():T?{\n",
    "        val head = head ?: return null\n",
    "\n",
    "        if (head.next == null) return pop()\n",
    "\n",
    "        size --\n",
    "\n",
    "        var prev = head\n",
    "        var current = head\n",
    "        var next = current.next\n",
    "\n",
    "        while (next != null){\n",
    "            prev = current\n",
    "            current = next\n",
    "            next = current.next\n",
    "        }\n",
    "        prev.next = null\n",
    "        tail = prev\n",
    "        return current.value\n",
    "    }\n",
    "\n",
    "    fun removeAfter(node:Node<T>):T?{\n",
    "        val result = node.next?.value\n",
    "\n",
    "        if (node.next == tail){\n",
    "            tail = node\n",
    "        }\n",
    "\n",
    "        if (node.next != null){\n",
    "            size --\n",
    "        }\n",
    "        node.next = node.next?.next\n",
    "        return result\n",
    "    }\n",
    "}\n",
    "\n",
    "\n",
    "\"push\" example {\n",
    "    val list = LinkedList<Int>()\n",
    "    list.push(3)\n",
    "        .push(2)\n",
    "        .push(1)\n",
    "\n",
    "    println(list)\n",
    "}\n",
    "\n",
    "\"append\" example {\n",
    "    val list = LinkedList<Int>()\n",
    "    list.append(1)\n",
    "        .append(2)\n",
    "        .append(3)\n",
    "\n",
    "    println(list)\n",
    "}\n",
    "\n",
    "\"inserting at a particular index\" example {\n",
    "    val list = LinkedList<Int>()\n",
    "    list.push(3)\n",
    "        .push(2)\n",
    "        .push(1)\n",
    "    println(\"Before inserting -> $list\")\n",
    "    var middleNode = list.nodeAt(1)!!\n",
    "    for (i in 1..3) {\n",
    "        middleNode = list.insert(value = -1 * i, afterNode = middleNode)\n",
    "    }\n",
    "    println(\"After Inserting -> $list\")\n",
    "}\n",
    "\n",
    "\"pop\" example {\n",
    "    val list = LinkedList<Int>()\n",
    "    list.push(3)\n",
    "        .push(2)\n",
    "        .push(1)\n",
    "\n",
    "    println(\"Before popping -> $list\")\n",
    "    val poppedValue = list.pop()\n",
    "    println(\"After popping -> $list\")\n",
    "    println(\"Popped value -> $poppedValue\")\n",
    "}\n",
    "\n",
    "\"removing the last node\" example {\n",
    "    val list = LinkedList<Int>()\n",
    "    list.push(3)\n",
    "        .push(2)\n",
    "        .push(1)\n",
    "\n",
    "    println(\"Before removing last node -> $list\")\n",
    "\n",
    "    val removedNode = list.removeLast()\n",
    "\n",
    "    println(\"after removing last node: $list\")\n",
    "    println(\"removed node -> $removedNode\")\n",
    "}\n",
    "\n",
    "\"removing a node after a particular node \" example {\n",
    "    val list = LinkedList<Int>()\n",
    "    list.push(3)\n",
    "        .push(2)\n",
    "        .push(1)\n",
    "\n",
    "    println(\"Before removing a node after a particular index -> $list\")\n",
    "\n",
    "    val index = 1\n",
    "    val node = list.nodeAt(index -1)!!\n",
    "    val removedValue = list.removeAfter(node)\n",
    "\n",
    "    println(\"After removing at index: $index : $list\")\n",
    "    println(\"Removed value: $removedValue\")\n",
    "\n",
    "}"
   ],
   "outputs": [
    {
     "name": "stdout",
     "output_type": "stream",
     "text": [
      "---Example of push---\r\n",
      "1 -> 2 -> 3\r\n",
      "\r\n",
      "---Example of append---\r\n",
      "1 -> 2 -> 3\r\n",
      "\r\n",
      "---Example of inserting at a particular index---\r\n",
      "Before inserting -> 1 -> 2 -> 3\r\n",
      "After Inserting -> 1 -> 2 -> -1 -> -2 -> -3 -> 3\r\n",
      "\r\n",
      "---Example of pop---\r\n",
      "Before popping -> 1 -> 2 -> 3\r\n",
      "After popping -> 2 -> 3\r\n",
      "Popped value -> 1\r\n",
      "\r\n",
      "---Example of removing the last node---\r\n",
      "Before removing last node -> 1 -> 2 -> 3\r\n",
      "after removing last node: 1 -> 2\r\n",
      "removed node -> 3\r\n",
      "\r\n",
      "---Example of removing a node after a particular node ---\r\n",
      "Before removing a node after a particular index -> 1 -> 2 -> 3\r\n",
      "After removing at index: 1 : 1 -> 3\r\n",
      "Removed value: 2\r\n",
      "\r\n"
     ]
    }
   ],
   "execution_count": 2
  },
  {
   "metadata": {},
   "cell_type": "markdown",
   "source": [
    "- Pushing a value adds the value to the front of the list\n",
    "- Append adds a value to the end of the list\n",
    "- Popping removes a value from the front of the list\n",
    "\n",
    "| **operation**       | push                | append              | insert                         | nodeAt                                | pop             | removeLast      | removeAfter                 |\n",
    "|---------------------|---------------------|---------------------|--------------------------------|---------------------------------------|-----------------|-----------------|-----------------------------|\n",
    "| **Behaviour**       | inserts at the head | inserts at the tail | inserts after a specified node | returns a node at a specified   index | removes at head | removes at tail | removes immediate next node |\n",
    "| **Time complexity** | O(1)                | O(1)                | O(1)                           | O(i)  where i = given index           | O(1)            | O(n)            | O(1)                        |"
   ]
  },
  {
   "metadata": {},
   "cell_type": "markdown",
   "source": [
    "# Challenges\n",
    "## Challenge 1. Print the nodes of a linked list in reverse\n",
    "### Solution 1\n",
    "One possible solution is to use recursion to build up the call stack until the end of the list, and then print the items as the stack unwinds\n"
   ]
  },
  {
   "metadata": {
    "ExecuteTime": {
     "end_time": "2025-01-03T09:50:54.755266700Z",
     "start_time": "2025-01-03T09:50:54.580202500Z"
    }
   },
   "cell_type": "code",
   "source": [
    "fun <T: Any> LinkedList<T>.printInReverse(){\n",
    "    this.nodeAt(0)?.printInReverse()\n",
    "}\n",
    "\n",
    "fun <T: Any> Node<T>.printInReverse(){\n",
    "    this.next?.printInReverse()\n",
    "\n",
    "    if (this.next != null){\n",
    "        print(\" <- \")\n",
    "    }\n",
    "    print(this.value.toString())\n",
    "}\n",
    "\n",
    "\"print in reverse with recursion\" example {\n",
    "    val list = LinkedList<Int>()\n",
    "    list\n",
    "        .append(3)\n",
    "        .append(2)\n",
    "        .append(1)\n",
    "        .append(4)\n",
    "        .append(5)\n",
    "\n",
    "    println(list)\n",
    "    list.printInReverse()\n",
    "}"
   ],
   "outputs": [
    {
     "name": "stdout",
     "output_type": "stream",
     "text": [
      "---Example of print in reverse with recursion---\r\n",
      "3 -> 2 -> 1 -> 4 -> 5\r\n",
      "5 <- 4 <- 1 <- 2 <- 3\r\n"
     ]
    }
   ],
   "execution_count": 16
  },
  {
   "metadata": {},
   "cell_type": "markdown",
   "source": [
    "### Solution Analysis\n",
    "1. The `printInReverse()` on the linkedList will call the `printInReverse()` of the `head` node\n",
    "2. The `printInReverse()` of the head node will recursively call `printInReverse()` of the next node, which calls the next and so on until the tail node is reached i.e. next is null\n",
    "3. Note that at the recursive point call, the execution of the `printInReverse()` is paused until all the stack frames are built, at this point next is null, no other recursive calls are made. This is called the base-case\n",
    "\n",
    "    CALL STACK (Building Up)\n",
    "    ---------------------------------\n",
    "    printInReverse(Node(6)) <br>\n",
    "    -> printInReverse(Node(5))  <br>\n",
    "        -> printInReverse(Node(4)) <br>\n",
    "            -> printInReverse(Node(1)) <br>\n",
    "                -> printInReverse(Node(2)) <br>\n",
    "                    -> printInReverse(Node(3)) [Base Case]\n",
    "4. Since the call stack is a ......stack, it works in a LIFO order, when we get to the base case, the call stack unwinding begins, we start to print from the last item pushed, which is `println(3)` up until the first item `println(6)`\n",
    "\n",
    "### Complexity\n",
    "- Since each node is visited exactly once, the time complexity is `O(n)`\n",
    "- Since we make use of the stack, and we push each node to it, the space complexity is also` O(n)`\n",
    "\n",
    "- This solution is appropriate for lists that are not large, since we are not in danger or overflowing the call stack\n",
    "\n",
    "\n",
    "### Solution 2\n",
    "We can use an explicit stack, instead of relying on the call stack to avoid potential overflow for large lists. We push each item of the node into the stack and then pop the stack and print each item\n"
   ]
  },
  {
   "metadata": {
    "ExecuteTime": {
     "end_time": "2025-01-03T10:05:56.790353800Z",
     "start_time": "2025-01-03T10:05:56.602837600Z"
    }
   },
   "cell_type": "code",
   "source": [
    "fun <T : Any> LinkedList<T>.printLinkedListInReverseWithStack() {\n",
    "    val stack = ArrayDeque<Node<T>>()\n",
    "    var current = this.nodeAt(0)\n",
    "    while (current != null) {\n",
    "        stack.addLast(current)\n",
    "        current = current.next\n",
    "    }\n",
    "\n",
    "    repeat(times = stack.size) { index ->\n",
    "        val node: Node<T> = stack.removeLast()\n",
    "        if (index == 0) {\n",
    "            print(node.value)\n",
    "        } else {\n",
    "            print(\" <- ${node.value} \")\n",
    "        }\n",
    "    }\n",
    "\n",
    "}\n",
    "\n",
    "\n",
    "\"print in reverse with stack\" example {\n",
    "    val list = LinkedList<Int>()\n",
    "    list\n",
    "        .append(3)\n",
    "        .append(2)\n",
    "        .append(1)\n",
    "        .append(4)\n",
    "        .append(5)\n",
    "    println(list)\n",
    "    list.printLinkedListInReverseWithStack()\n",
    "}"
   ],
   "outputs": [
    {
     "name": "stdout",
     "output_type": "stream",
     "text": [
      "---Example of print in reverse with stack---\r\n",
      "3 -> 2 -> 1 -> 4 -> 5\r\n",
      "5 <- 4  <- 1  <- 2  <- 3 \r\n"
     ]
    }
   ],
   "execution_count": 23
  },
  {
   "metadata": {},
   "cell_type": "markdown",
   "source": [
    "### Complexity\n",
    "- We also visit each node exactly once, so the time complexity is `O(n)`\n",
    "- We push each node from the list into the stack, so the space complexity is also `O(n)`\n",
    "- This solution is better for large lists since there is no danger of stack overflow\n",
    "\n",
    "\n",
    "## Challenge 2. Find the Middle Item of a Linked list\n",
    "### Solution 1\n",
    "Since we can check the size of the list, we can use recursion to check if each node is the middle index"
   ]
  },
  {
   "metadata": {
    "ExecuteTime": {
     "end_time": "2025-01-03T10:12:27.791347Z",
     "start_time": "2025-01-03T10:12:27.178682100Z"
    }
   },
   "cell_type": "code",
   "source": [
    "fun <T : Any> LinkedList<T>.findMiddle(): Node<T>? {\n",
    "    return findMiddleNode(node = nodeAt(0), index = 0, middleIndex = this.size / 2)\n",
    "}\n",
    "\n",
    " tailrec fun <T : Any> findMiddleNode(node: Node<T>?, index: Int, middleIndex: Int): Node<T>? {\n",
    "    if (index == middleIndex) return node\n",
    "    return findMiddleNode(node = node?.next, index = index + 1, middleIndex = middleIndex)\n",
    "}\n",
    "\n",
    "\n",
    "\"find middle node with tail recursion\" example {\n",
    "    val list = LinkedList<Int>()\n",
    "    repeat(50000){\n",
    "        list\n",
    "            .push(it)\n",
    "\n",
    "    }\n",
    "\n",
    "    println(list.findMiddle()?.value)\n",
    "}"
   ],
   "outputs": [
    {
     "name": "stdout",
     "output_type": "stream",
     "text": [
      "---Example of find middle node with tail recursion---\r\n",
      "24999\r\n",
      "\r\n"
     ]
    }
   ],
   "execution_count": 24
  },
  {
   "metadata": {},
   "cell_type": "markdown",
   "source": [
    "- The middle index is just the size of the list / 2\n",
    "- We start at the first index and recursively check if each index is the middle index, incrementing the index to check each time\n",
    "- We use the `tailrec` keyword here to instruct the kotlin compiler to consider the function for tail-recursion to prevent stack overflow, under the hood, the compiler rewrites the function to a for-loop. Notice that we allocate a very large list and the code does not throw an exception. Remove the `tailrec` keyword and you'll be greeted with a `StackOverFlowError`\n",
    "### Complexity\n",
    "- We visit each node up until the middle node once, even though we don't visit all the nodes, the time complexity is still `O(n)`, because for an input size `n` the function will always traverse n/2 times, remember that time complexity is concerned about the performance over time as the input size increases\n",
    "- Since we utilize the call stack, the space complexity is also O(n)\n",
    "\n",
    "we can use a 2 pointer solution to traverse the list, one pointer moves 2x faster than the other, when the faster pointer reaches the end of the list, the slower pointer will be at the middle\n",
    "\n",
    "### Solution 2"
   ]
  },
  {
   "metadata": {
    "ExecuteTime": {
     "end_time": "2025-01-03T09:42:20.104966100Z",
     "start_time": "2025-01-03T09:42:19.901491600Z"
    }
   },
   "cell_type": "code",
   "source": [
    "fun <T: Any> LinkedList<T>.findMiddleNodeTwoPointer():Node<T>?{\n",
    "    var slowPointer = this.nodeAt(0)\n",
    "    var fastPointer = this.nodeAt(0)\n",
    "\n",
    "    while (fastPointer?.next != null){\n",
    "        slowPointer = slowPointer?.next\n",
    "        fastPointer = fastPointer.next?.next\n",
    "    }\n",
    "    return slowPointer\n",
    "}\n",
    "\n",
    "\n",
    "\"find middle node with 2 pointer\" example {\n",
    "    val list = LinkedList<Int>()\n",
    "    repeat(50000){\n",
    "        list\n",
    "            .push(it)\n",
    "\n",
    "    }\n",
    "\n",
    "    println(list.findMiddleNodeTwoPointer()?.value)\n",
    "}"
   ],
   "outputs": [
    {
     "name": "stdout",
     "output_type": "stream",
     "text": [
      "---Example of find middle node with 2 pointer---\r\n",
      "24999\r\n",
      "\r\n"
     ]
    }
   ],
   "execution_count": 6
  },
  {
   "metadata": {},
   "cell_type": "markdown",
   "source": [
    "### Complexity\n",
    "- We traverse the entire list which gives `O(1)` time complexity\n",
    "- We will only ever allocate 2 pointers (variables) no matter how large the list is, this gives a more superior space complexity of `O(1)` compared to the recursive approach\n",
    "\n",
    "\n",
    "\n",
    "\n",
    "## Challenge 3: Reverse a LinkedList\n",
    "To reverse a LinkedList, we can recursively visit each node and adds the nodes in reverse to a new LinkedList as the stack unwinds, similar approach to the first challenge\n"
   ]
  },
  {
   "metadata": {
    "ExecuteTime": {
     "end_time": "2025-01-03T10:13:57.567398700Z",
     "start_time": "2025-01-03T10:13:57.087341900Z"
    }
   },
   "cell_type": "code",
   "source": [
    "fun <T: Any> reverseLinkedList(toList:LinkedList<T>, node:Node<T>): LinkedList<T> {\n",
    "    val next = node.next\n",
    "    if (next != null){\n",
    "        reverseLinkedList(toList, next)\n",
    "    }\n",
    "    toList.append(node.value)\n",
    "    return toList\n",
    "}\n",
    "\n",
    "\"reverse linked list\" example {\n",
    "    val list = LinkedList<Int>()\n",
    "    list\n",
    "        .push(3)\n",
    "        .push(2)\n",
    "        .push(1)\n",
    "        .push(4)\n",
    "        .push(5)\n",
    "    println(\"original list: $list\")\n",
    "    println(\"Reversed: ${reverseLinkedList(toList = LinkedList<Int>(), node = list.nodeAt(0)!!)}\")\n",
    "}"
   ],
   "outputs": [
    {
     "name": "stdout",
     "output_type": "stream",
     "text": [
      "---Example of reverse linked list---\r\n",
      "original list: 5 -> 4 -> 1 -> 2 -> 3\r\n",
      "Reversed: 3 -> 2 -> 1 -> 4 -> 5\r\n",
      "\r\n"
     ]
    }
   ],
   "execution_count": 25
  },
  {
   "metadata": {},
   "cell_type": "markdown",
   "source": [
    "### Complexity\n",
    "- Since we visit each node, the time complexity is `O(n)`\n",
    "- We push each node to the new list which is returned, this also gives space complexity of `O(n)`\n",
    "\n",
    "\n",
    "## Linked Lists Use Cases\n",
    "Linked lists are useful in situations where:\n",
    "- memory fragmentation needs to be reduced, since it's nodes are not stored in continuous blocks of memory\n",
    "- nodes need to be added to the front of the list as fast as possible\n",
    "- nodes need to be added to a particular position that's already known\n",
    "\n",
    "This makes Linked Lists very versatile and applied to use cases such as:\n",
    "- The undo functionality in text editors\n",
    "- GPS navigation destinations; traversing from origin to destination can be implemented as traversing through nodes in a LinkedList\n",
    "- The underlying structure for other data structures such as stacks and queues\n",
    "- Dynamic memory allocation; used in the C language `malloc()` and `free()` functions\n",
    "- LRU(Least Recently Used) cache\n",
    "\n"
   ]
  }
 ],
 "metadata": {
  "kernelspec": {
   "display_name": "Kotlin",
   "language": "kotlin",
   "name": "kotlin"
  },
  "language_info": {
   "name": "kotlin",
   "version": "1.9.23",
   "mimetype": "text/x-kotlin",
   "file_extension": ".kt",
   "pygments_lexer": "kotlin",
   "codemirror_mode": "text/x-kotlin",
   "nbconvert_exporter": ""
  }
 },
 "nbformat": 4,
 "nbformat_minor": 0
}
